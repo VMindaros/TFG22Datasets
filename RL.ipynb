{
 "cells": [
  {
   "cell_type": "markdown",
   "metadata": {},
   "source": [
    "# RL for imbalanced 10-class classification"
   ]
  },
  {
   "cell_type": "markdown",
   "metadata": {},
   "source": [
    "## Imports and data fetch"
   ]
  },
  {
   "cell_type": "code",
   "execution_count": 1,
   "metadata": {},
   "outputs": [
    {
     "name": "stderr",
     "output_type": "stream",
     "text": [
      "2023-01-07 12:59:07.468398: I tensorflow/core/platform/cpu_feature_guard.cc:193] This TensorFlow binary is optimized with oneAPI Deep Neural Network Library (oneDNN) to use the following CPU instructions in performance-critical operations:  AVX2 FMA\n",
      "To enable them in other operations, rebuild TensorFlow with the appropriate compiler flags.\n",
      "2023-01-07 12:59:08.138752: W tensorflow/compiler/xla/stream_executor/platform/default/dso_loader.cc:64] Could not load dynamic library 'libnvinfer.so.7'; dlerror: libnvinfer.so.7: cannot open shared object file: No such file or directory\n",
      "2023-01-07 12:59:08.138852: W tensorflow/compiler/xla/stream_executor/platform/default/dso_loader.cc:64] Could not load dynamic library 'libnvinfer_plugin.so.7'; dlerror: libnvinfer_plugin.so.7: cannot open shared object file: No such file or directory\n",
      "2023-01-07 12:59:08.138859: W tensorflow/compiler/tf2tensorrt/utils/py_utils.cc:38] TF-TRT Warning: Cannot dlopen some TensorRT libraries. If you would like to use Nvidia GPU with TensorRT, please make sure the missing libraries mentioned above are installed properly.\n",
      "2023-01-07 12:59:09.612407: I tensorflow/core/platform/cpu_feature_guard.cc:193] This TensorFlow binary is optimized with oneAPI Deep Neural Network Library (oneDNN) to use the following CPU instructions in performance-critical operations:  AVX2 FMA\n",
      "To enable them in other operations, rebuild TensorFlow with the appropriate compiler flags.\n"
     ]
    },
    {
     "data": {
      "text/plain": [
       "'/device:GPU:0'"
      ]
     },
     "execution_count": 1,
     "metadata": {},
     "output_type": "execute_result"
    },
    {
     "name": "stderr",
     "output_type": "stream",
     "text": [
      "2023-01-07 12:59:09.635790: I tensorflow/compiler/xla/stream_executor/cuda/cuda_gpu_executor.cc:981] successful NUMA node read from SysFS had negative value (-1), but there must be at least one NUMA node, so returning NUMA node zero\n",
      "2023-01-07 12:59:09.638768: I tensorflow/compiler/xla/stream_executor/cuda/cuda_gpu_executor.cc:981] successful NUMA node read from SysFS had negative value (-1), but there must be at least one NUMA node, so returning NUMA node zero\n",
      "2023-01-07 12:59:09.638948: I tensorflow/compiler/xla/stream_executor/cuda/cuda_gpu_executor.cc:981] successful NUMA node read from SysFS had negative value (-1), but there must be at least one NUMA node, so returning NUMA node zero\n",
      "2023-01-07 12:59:11.188489: I tensorflow/compiler/xla/stream_executor/cuda/cuda_gpu_executor.cc:981] successful NUMA node read from SysFS had negative value (-1), but there must be at least one NUMA node, so returning NUMA node zero\n",
      "2023-01-07 12:59:11.188702: I tensorflow/compiler/xla/stream_executor/cuda/cuda_gpu_executor.cc:981] successful NUMA node read from SysFS had negative value (-1), but there must be at least one NUMA node, so returning NUMA node zero\n",
      "2023-01-07 12:59:11.188867: I tensorflow/compiler/xla/stream_executor/cuda/cuda_gpu_executor.cc:981] successful NUMA node read from SysFS had negative value (-1), but there must be at least one NUMA node, so returning NUMA node zero\n",
      "2023-01-07 12:59:11.188987: I tensorflow/core/common_runtime/gpu/gpu_device.cc:1613] Created device /device:GPU:0 with 1886 MB memory:  -> device: 0, name: NVIDIA GeForce GTX 1050 Ti, pci bus id: 0000:01:00.0, compute capability: 6.1\n"
     ]
    }
   ],
   "source": [
    "import os\n",
    "import pandas as pd\n",
    "import numpy as np\n",
    "import random\n",
    "import time\n",
    "import matplotlib.pyplot as plt\n",
    "import tensorflow as tf\n",
    "import seaborn as sns\n",
    "import gym\n",
    "\n",
    "from datetime import datetime\n",
    "\n",
    "from scipy.stats import gmean\n",
    "\n",
    "from sklearn import preprocessing\n",
    "from sklearn import metrics\n",
    "from sklearn.model_selection import train_test_split\n",
    "from sklearn.utils import shuffle\n",
    "from sklearn.utils.class_weight import compute_class_weight\n",
    "\n",
    "from stable_baselines3 import DQN, PPO\n",
    "from sb3_contrib import QRDQN\n",
    "from stable_baselines3.common.callbacks import EvalCallback\n",
    "from stable_baselines3.common.monitor import Monitor\n",
    "from stable_baselines3.common.callbacks import BaseCallback\n",
    "\n",
    "tf.test.gpu_device_name()"
   ]
  },
  {
   "cell_type": "code",
   "execution_count": 2,
   "metadata": {},
   "outputs": [],
   "source": [
    "train  = pd.read_csv('https://raw.githubusercontent.com/Nir-J/ML-Projects/master/UNSW-Network_Packet_Classification/UNSW_NB15_training-set.csv')\n",
    "test = pd.read_csv('https://raw.githubusercontent.com/Nir-J/ML-Projects/master/UNSW-Network_Packet_Classification/UNSW_NB15_testing-set.csv')\n",
    "\n",
    "df = pd.concat([train,test]).drop(['id', 'label'], axis=1)"
   ]
  },
  {
   "cell_type": "markdown",
   "metadata": {},
   "source": [
    "## Data preprocessing"
   ]
  },
  {
   "cell_type": "code",
   "execution_count": 3,
   "metadata": {},
   "outputs": [],
   "source": [
    "NOMINAL_COLS = ['proto', 'service', 'state']\n",
    "BINARY_COLS = ['is_sm_ips_ports', 'is_ftp_login']\n",
    "\n",
    "for name in NOMINAL_COLS:\n",
    "    df = pd.concat([df, pd.get_dummies(df[name], prefix=name)],axis=1)\n",
    "    df.drop(name,axis=1,inplace=True)"
   ]
  },
  {
   "cell_type": "markdown",
   "metadata": {
    "tags": []
   },
   "source": [
    "## Reward bias for RL"
   ]
  },
  {
   "cell_type": "code",
   "execution_count": 4,
   "metadata": {},
   "outputs": [],
   "source": [
    "attack_cat_list = np.unique(df['attack_cat'])\n",
    "\n",
    "rw_factor = compute_class_weight(class_weight='balanced',\n",
    "                                 classes=attack_cat_list,\n",
    "                                 y=df['attack_cat'])\n",
    "\n",
    "minority_threshold = gmean(rw_factor)\n",
    "\n",
    "minority_classes = []\n",
    "\n",
    "for idx, attack in enumerate(attack_cat_list):\n",
    "    if rw_factor[idx] > minority_threshold:\n",
    "        minority_classes.append(idx)"
   ]
  },
  {
   "cell_type": "code",
   "execution_count": 5,
   "metadata": {},
   "outputs": [
    {
     "data": {
      "text/plain": [
       "2.9957855137446554"
      ]
     },
     "metadata": {},
     "output_type": "display_data"
    },
    {
     "data": {
      "text/plain": [
       "array([  9.62543892,  11.0636754 ,   1.57569253,   0.57871533,\n",
       "         1.06274437,   0.43769088,   0.27706774,   1.84223207,\n",
       "        17.05314361, 148.08793103])"
      ]
     },
     "metadata": {},
     "output_type": "display_data"
    }
   ],
   "source": [
    "display(minority_threshold)\n",
    "display(rw_factor)"
   ]
  },
  {
   "cell_type": "markdown",
   "metadata": {
    "tags": []
   },
   "source": [
    "## Data normalization, split, shuffle "
   ]
  },
  {
   "cell_type": "code",
   "execution_count": 6,
   "metadata": {},
   "outputs": [],
   "source": [
    "x = df.drop(['attack_cat'], axis=1).values\n",
    "\n",
    "# Make the values [0, 1] for the RL environment\n",
    "min_max_scaler = preprocessing.MinMaxScaler(feature_range=(-1, 1))\n",
    "x = min_max_scaler.fit_transform(x)\n",
    "\n",
    "dummies = pd.get_dummies(df['attack_cat'])\n",
    "attack_cat_list = list(dummies.columns)\n",
    "y = dummies.values\n",
    "\n",
    "x_train, x_test, y_train, y_test = train_test_split(x, y, test_size=0.2, random_state=42)\n",
    "x_train, y_train = shuffle(x_train, y_train, random_state=42)"
   ]
  },
  {
   "cell_type": "markdown",
   "metadata": {
    "tags": []
   },
   "source": [
    "## Benchmark functions"
   ]
  },
  {
   "cell_type": "code",
   "execution_count": 9,
   "metadata": {},
   "outputs": [],
   "source": [
    "models_benchmark = pd.DataFrame(columns=['Accuracy', 'Recall', 'Precision', 'F1-score'])\n",
    "\n",
    "def getMetrics(model_name, y_truth, y_pred, average):\n",
    "    # Macro-avg is recommended to keep minority classes relevant\n",
    "    # Weighted-avg is recommended to keep majority classes relevant\n",
    "    print(f'Metrics {average}-averaged')\n",
    "    acc = metrics.accuracy_score(y_truth, y_pred)\n",
    "    rec = metrics.recall_score(y_truth, y_pred, average=average, zero_division=0)\n",
    "    pre = metrics.precision_score(y_truth, y_pred, average=average, zero_division=0)\n",
    "    f1s = metrics.f1_score(y_truth, y_pred, average=average, zero_division=0)\n",
    "\n",
    "    models_benchmark.loc[model_name] = [acc, rec, pre, f1s]\n",
    "    display(models_benchmark.loc[model_name])\n",
    "    return\n",
    "\n",
    "def getCM(model_name, y_test, y_pred):\n",
    "    cm = metrics.confusion_matrix(y_test, y_pred)\n",
    "    cm_normalized = cm.astype('float') / cm.sum(axis=1)[:, np.newaxis]\n",
    "\n",
    "    plt.figure(figsize=(10,10))\n",
    "    plt.title(f'{model_name}', fontsize=20)\n",
    "\n",
    "    sns.heatmap(cm_normalized, annot=True, fmt='.2f', xticklabels=attack_cat_list, yticklabels=attack_cat_list)\n",
    "\n",
    "    plt.xticks(rotation=45)\n",
    "    plt.ylabel('Real outcome', fontsize=16)\n",
    "    plt.xlabel('Predicted outcome', fontsize=16)\n",
    "    plt.ioff()\n",
    "    plt.show()\n",
    "    return"
   ]
  },
  {
   "cell_type": "markdown",
   "metadata": {
    "tags": []
   },
   "source": [
    "## Environment for RL"
   ]
  },
  {
   "cell_type": "code",
   "execution_count": 10,
   "metadata": {},
   "outputs": [],
   "source": [
    "class CustomEnv(gym.Env):\n",
    "    def __init__(self, dataset=(x_train, y_train), rw_factor=rw_factor, minority_classes=minority_classes):\n",
    "        \n",
    "        super().__init__()\n",
    "\n",
    "        self.x, self.y = dataset\n",
    "        self.rw_factor = rw_factor\n",
    "        self.idx = 0\n",
    "        self.action_space = gym.spaces.Discrete(self.y.shape[1])\n",
    "        self.observation_space = gym.spaces.Box(low=0, high=1,\n",
    "                                                shape=(self.x.shape[1], ),\n",
    "                                                dtype=np.float32)\n",
    "        \n",
    "        self.minority_classes = minority_classes\n",
    "        self.step_counter = 0\n",
    "        self.max_steps = len(self.x)\n",
    "\n",
    "    def step(self, action):\n",
    "        done = False\n",
    "        \n",
    "        # Reward management\n",
    "        if int(action == self.expected_action):\n",
    "            reward = self.rw_factor[self.expected_action]\n",
    "        else:\n",
    "            reward = -self.rw_factor[self.expected_action]\n",
    "            # Done management 1 -> Stop progressing a bad guess is taken\n",
    "            # on data from a minority class\n",
    "            if self.expected_action in self.minority_classes:\n",
    "                done = True\n",
    "                \n",
    "        # Observation management\n",
    "        self.idx += 1\n",
    "        if self.idx >= len(self.x):\n",
    "            self.idx = 0\n",
    "        obs = self.seq_observation()\n",
    "\n",
    "        # Done management 2 -> If a whole sweep of X is achieved\n",
    "        self.step_counter += 1\n",
    "        if self.step_counter >= self.max_steps:\n",
    "            done = True\n",
    "\n",
    "        return obs, reward, done, {}\n",
    "\n",
    "    def reset(self):\n",
    "        # Start from failed position\n",
    "        self.step_counter = 0\n",
    "        obs = self.seq_observation()\n",
    "        return obs\n",
    "    \n",
    "    def seq_observation(self):        \n",
    "        obs = self.x[self.idx]\n",
    "        self.expected_action = int(np.argmax(self.y[self.idx]))\n",
    "        return obs"
   ]
  },
  {
   "cell_type": "markdown",
   "metadata": {},
   "source": [
    "## Callback for best model auto-save"
   ]
  },
  {
   "cell_type": "code",
   "execution_count": 11,
   "metadata": {},
   "outputs": [],
   "source": [
    "class SaveBest(BaseCallback):\n",
    "    def __init__(self, check_freq: int, log_dir: str, verbose: int = 0):\n",
    "        super(SaveBest, self).__init__(verbose)\n",
    "        self.check_freq = check_freq\n",
    "        self.log_dir = log_dir\n",
    "        self.save_path = os.path.join(log_dir, 'best_model')        \n",
    "        self.max_score = self.compute_f1()\n",
    "    \n",
    "    def _init_callback(self) -> None:\n",
    "        if self.save_path is not None:\n",
    "            os.makedirs(self.save_path, exist_ok=True)\n",
    "            \n",
    "    def _on_step(self) -> bool:\n",
    "        if self.n_calls % self.check_freq == 0:\n",
    "            current_score = self.compute_f1()\n",
    "            acc = metrics.accuracy_score(np.argmax(y_train, axis=1), y_train_pred)\n",
    "            \n",
    "            if current_score > self.max_score:\n",
    "                self.max_score = current_score\n",
    "                print(f'New best score at {self.num_timesteps}')\n",
    "                print(f'Acc: {acc} - F1: {self.max_score}')\n",
    "                print('----- ----- -----')\n",
    "                self.model.save(self.save_path)\n",
    "\n",
    "        return True\n",
    "    \n",
    "    def compute_f1(self) -> float:\n",
    "        y_train_pred = self.model.predict(x_train)[0]\n",
    "        current_score = metrics.f1_score(np.argmax(y_train, axis=1), y_train_pred, average='macro', zero_division=0)\n",
    "        \n",
    "        return current_score"
   ]
  },
  {
   "cell_type": "code",
   "execution_count": 12,
   "metadata": {},
   "outputs": [
    {
     "name": "stdout",
     "output_type": "stream",
     "text": [
      "(206138, 196)\n"
     ]
    }
   ],
   "source": [
    "log_dir = './model_dir/'\n",
    "os.makedirs(log_dir, exist_ok=True)\n",
    "\n",
    "train_env = CustomEnv()\n",
    "train_env = Monitor(train_env, log_dir)\n",
    "\n",
    "train_env.reset()\n",
    "\n",
    "print(x_train.shape)"
   ]
  },
  {
   "cell_type": "markdown",
   "metadata": {
    "tags": []
   },
   "source": [
    "## Model creation / load / manual save"
   ]
  },
  {
   "cell_type": "code",
   "execution_count": 13,
   "metadata": {},
   "outputs": [],
   "source": [
    "# Choose between DQN and PPO, other algogithms don't support Discrete action spaces\n",
    "ALGO = 'PPO'\n",
    "callback = SaveBest(check_freq=25_000, log_dir=log_dir)"
   ]
  },
  {
   "cell_type": "code",
   "execution_count": 14,
   "metadata": {},
   "outputs": [],
   "source": [
    "model = QRDQN(policy='MlpPolicy', \n",
    "            env=train_env, \n",
    "            tensorboard_log=f'./{ALGO}')"
   ]
  },
  {
   "cell_type": "code",
   "execution_count": 15,
   "metadata": {},
   "outputs": [],
   "source": [
    "# Change the name to load proper model\n",
    "# model = QRDQN.load(path=f'{log_dir}/best_model.zip', env=train_env)"
   ]
  },
  {
   "cell_type": "markdown",
   "metadata": {
    "tags": []
   },
   "source": [
    "## Model training"
   ]
  },
  {
   "cell_type": "code",
   "execution_count": 16,
   "metadata": {},
   "outputs": [
    {
     "name": "stdout",
     "output_type": "stream",
     "text": [
      "New best score at 1000\n",
      "Acc: 0.09954496502343091 - F1: 0.07114176941291629\n",
      "----- ----- -----\n",
      "New best score at 3000\n",
      "Acc: 0.10017561051334543 - F1: 0.07180721919854043\n",
      "----- ----- -----\n",
      "New best score at 5000\n",
      "Acc: 0.10098574741192794 - F1: 0.072322199108585\n",
      "----- ----- -----\n",
      "New best score at 16000\n",
      "Acc: 0.10137383694418302 - F1: 0.07284267999302985\n",
      "----- ----- -----\n",
      "New best score at 58000\n",
      "Acc: 0.2894323220366939 - F1: 0.07669529450082321\n",
      "----- ----- -----\n",
      "New best score at 59000\n",
      "Acc: 0.2977519913844124 - F1: 0.08977140569000036\n",
      "----- ----- -----\n",
      "New best score at 61000\n",
      "Acc: 0.2740203164870135 - F1: 0.11583366442480378\n",
      "----- ----- -----\n",
      "New best score at 62000\n",
      "Acc: 0.30673141293696454 - F1: 0.11972747833467803\n",
      "----- ----- -----\n",
      "New best score at 64000\n",
      "Acc: 0.3770435339432807 - F1: 0.1668719891949589\n",
      "----- ----- -----\n",
      "New best score at 67000\n",
      "Acc: 0.5000582134298382 - F1: 0.20326559245722303\n",
      "----- ----- -----\n",
      "New best score at 88000\n",
      "Acc: 0.48114855097070897 - F1: 0.21173177049666386\n",
      "----- ----- -----\n",
      "New best score at 97000\n",
      "Acc: 0.545852778235939 - F1: 0.2200545779741187\n",
      "----- ----- -----\n",
      "New best score at 103000\n",
      "Acc: 0.5277678060328518 - F1: 0.22713884963108102\n",
      "----- ----- -----\n",
      "New best score at 108000\n",
      "Acc: 0.5616334688412616 - F1: 0.2706249353944972\n",
      "----- ----- -----\n",
      "New best score at 131000\n",
      "Acc: 0.6296316060115068 - F1: 0.2911402447350008\n",
      "----- ----- -----\n",
      "New best score at 212000\n",
      "Acc: 0.6591167082245875 - F1: 0.3086207382053214\n",
      "----- ----- -----\n",
      "New best score at 217000\n",
      "Acc: 0.6770949558063045 - F1: 0.3205883952187033\n",
      "----- ----- -----\n",
      "New best score at 229000\n",
      "Acc: 0.6720691963636011 - F1: 0.3496951480631222\n",
      "----- ----- -----\n",
      "New best score at 249000\n",
      "Acc: 0.6668396899164637 - F1: 0.3500253390170541\n",
      "----- ----- -----\n",
      "New best score at 253000\n",
      "Acc: 0.6871755814066305 - F1: 0.3543448017078968\n",
      "----- ----- -----\n",
      "New best score at 295000\n",
      "Acc: 0.6886842794632722 - F1: 0.3597261832567156\n",
      "----- ----- -----\n",
      "New best score at 297000\n",
      "Acc: 0.6938070612890394 - F1: 0.36147970050936673\n",
      "----- ----- -----\n",
      "New best score at 325000\n",
      "Acc: 0.6999582803752826 - F1: 0.36854406530054173\n",
      "----- ----- -----\n",
      "New best score at 396000\n",
      "Acc: 0.7021218795176047 - F1: 0.37117295716861903\n",
      "----- ----- -----\n",
      "New best score at 487000\n",
      "Acc: 0.6935353986164609 - F1: 0.3716157294693554\n",
      "----- ----- -----\n",
      "New best score at 575000\n",
      "Acc: 0.7049355286264541 - F1: 0.3745699351887219\n",
      "----- ----- -----\n",
      "New best score at 921000\n",
      "Acc: 0.6974259961773182 - F1: 0.3754527762808624\n",
      "----- ----- -----\n",
      "New best score at 944000\n",
      "Acc: 0.7000019404476613 - F1: 0.3770302102727608\n",
      "----- ----- -----\n",
      "New best score at 951000\n",
      "Acc: 0.7012244224742649 - F1: 0.37808766288770745\n",
      "----- ----- -----\n",
      "New best score at 984000\n",
      "Acc: 0.7029465697736468 - F1: 0.3804886912832163\n",
      "----- ----- -----\n",
      "New best score at 1042000\n",
      "Acc: 0.7038246223403739 - F1: 0.38093826565317623\n",
      "----- ----- -----\n",
      "New best score at 1063000\n",
      "Acc: 0.704392203281297 - F1: 0.3817923877704777\n",
      "----- ----- -----\n",
      "New best score at 1089000\n",
      "Acc: 0.7034704906421911 - F1: 0.3843638951207707\n",
      "----- ----- -----\n",
      "New best score at 1138000\n",
      "Acc: 0.7128380017269984 - F1: 0.3849636958805277\n",
      "----- ----- -----\n",
      "New best score at 1163000\n",
      "Acc: 0.7131436222336494 - F1: 0.3855139219461104\n",
      "----- ----- -----\n",
      "New best score at 1185000\n",
      "Acc: 0.6941466396297626 - F1: 0.3855947565351017\n",
      "----- ----- -----\n",
      "New best score at 1188000\n",
      "Acc: 0.7092045134812601 - F1: 0.3860607098689555\n",
      "----- ----- -----\n",
      "New best score at 1192000\n",
      "Acc: 0.7103008664098808 - F1: 0.38753933699920856\n",
      "----- ----- -----\n",
      "New best score at 1202000\n",
      "Acc: 0.7068662740494231 - F1: 0.39196521062440337\n",
      "----- ----- -----\n",
      "New best score at 1206000\n",
      "Acc: 0.6925603236666699 - F1: 0.3932272776086929\n",
      "----- ----- -----\n",
      "New best score at 1244000\n",
      "Acc: 0.7078559023566737 - F1: 0.39386607629352327\n",
      "----- ----- -----\n",
      "New best score at 1319000\n",
      "Acc: 0.7157292687422988 - F1: 0.3951770958341204\n",
      "----- ----- -----\n",
      "New best score at 1325000\n",
      "Acc: 0.7061337550572917 - F1: 0.3963810067386741\n",
      "----- ----- -----\n",
      "New best score at 1330000\n",
      "Acc: 0.704804548409318 - F1: 0.39961375686485245\n",
      "----- ----- -----\n",
      "New best score at 1346000\n",
      "Acc: 0.7025827358371576 - F1: 0.4046145798526507\n",
      "----- ----- -----\n",
      "New best score at 1400000\n",
      "Acc: 0.701306891499869 - F1: 0.4061124360392704\n",
      "----- ----- -----\n",
      "New best score at 1518000\n",
      "Acc: 0.7023547332369577 - F1: 0.40630682753525893\n",
      "----- ----- -----\n",
      "New best score at 1523000\n",
      "Acc: 0.7057456655250366 - F1: 0.4071410432215642\n",
      "----- ----- -----\n",
      "New best score at 1545000\n",
      "Acc: 0.7050276998903647 - F1: 0.4097962068683946\n",
      "----- ----- -----\n",
      "New best score at 1563000\n",
      "Acc: 0.6980178327140071 - F1: 0.41844960413243726\n",
      "----- ----- -----\n",
      "New best score at 1650000\n",
      "Acc: 0.6953739727755193 - F1: 0.42393096990599355\n",
      "----- ----- -----\n",
      "New best score at 4936000\n",
      "Acc: 0.6957911690226936 - F1: 0.429494079554519\n",
      "----- ----- -----\n",
      "New best score at 6906000\n",
      "Acc: 0.6848810020471723 - F1: 0.4300538264158\n",
      "----- ----- -----\n",
      "New best score at 6985000\n",
      "Acc: 0.6927204105987251 - F1: 0.44100370382414206\n",
      "----- ----- -----\n",
      "New best score at 7448000\n",
      "Acc: 0.6937148900251288 - F1: 0.44744515528780615\n",
      "----- ----- -----\n",
      "New best score at 8743000\n",
      "Acc: 0.6980711950246922 - F1: 0.4504681630208518\n",
      "----- ----- -----\n",
      "New best score at 9625000\n",
      "Acc: 0.6974114428198586 - F1: 0.4551773842755441\n",
      "----- ----- -----\n"
     ]
    }
   ],
   "source": [
    "# Min 5M timesteps for relevant results if training a new model\n",
    "\n",
    "EPOCHS = 1\n",
    "TIMESTEPS = 10e6\n",
    "\n",
    "for i in range(1, EPOCHS+1):\n",
    "    model.learn(total_timesteps=TIMESTEPS, reset_num_timesteps=False, tb_log_name=f'{ALGO}_TB_LOG', callback=callback)"
   ]
  },
  {
   "cell_type": "markdown",
   "metadata": {},
   "source": [
    "## Compute metrics and CM for the current model on test split"
   ]
  },
  {
   "cell_type": "code",
   "execution_count": 17,
   "metadata": {},
   "outputs": [
    {
     "name": "stdout",
     "output_type": "stream",
     "text": [
      "Metrics macro-averaged\n"
     ]
    },
    {
     "data": {
      "text/plain": [
       "Accuracy     0.643388\n",
       "Recall       0.532233\n",
       "Precision    0.427931\n",
       "F1-score     0.359515\n",
       "Name: RUN, dtype: float64"
      ]
     },
     "metadata": {},
     "output_type": "display_data"
    },
    {
     "name": "stdout",
     "output_type": "stream",
     "text": [
      "----- ----- -----\n",
      "Metrics weighted-averaged\n"
     ]
    },
    {
     "data": {
      "text/plain": [
       "Accuracy     0.643388\n",
       "Recall       0.643388\n",
       "Precision    0.825506\n",
       "F1-score     0.686780\n",
       "Name: RUN, dtype: float64"
      ]
     },
     "metadata": {},
     "output_type": "display_data"
    },
    {
     "data": {
      "image/png": "[encoded data removed]",
      "text/plain": [
       "<Figure size 1000x1000 with 2 Axes>"
      ]
     },
     "metadata": {},
     "output_type": "display_data"
    }
   ],
   "source": [
    "y_pred = model.predict(x_test)[0]\n",
    "\n",
    "getMetrics('RUN', np.argmax(y_test, axis=1), y_pred, 'macro')\n",
    "print('----- ----- -----')\n",
    "getMetrics('RUN', np.argmax(y_test, axis=1), y_pred, 'weighted')\n",
    "getCM('DQN', np.argmax(y_test, axis=1), y_pred)"
   ]
  },
  {
   "cell_type": "code",
   "execution_count": null,
   "metadata": {},
   "outputs": [],
   "source": []
  }
 ],
 "metadata": {
  "kernelspec": {
   "display_name": "ker",
   "language": "python",
   "name": "ker"
  },
  "language_info": {
   "codemirror_mode": {
    "name": "ipython",
    "version": 3
   },
   "file_extension": ".py",
   "mimetype": "text/x-python",
   "name": "python",
   "nbconvert_exporter": "python",
   "pygments_lexer": "ipython3",
   "version": "3.10.8"
  },
  "vscode": {
   "interpreter": {
    "hash": "b1a38fede043c8551f3f80c29646eaec9abea18131b5b9ee9dad7c077f048c74"
   }
  }
 },
 "nbformat": 4,
 "nbformat_minor": 4
}
