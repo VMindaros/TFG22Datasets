{
 "cells": [
  {
   "attachments": {},
   "cell_type": "markdown",
   "metadata": {},
   "source": [
    "| Name | Model | Accuracy | Recall | Precision | F1 | Details | \n",
    "| -- | -- | -- | -- | -- | -- | -- |\n",
    "| RFC1 | RFC | 77.4% | 51.1% | 72.7% | 50.1% | Zscore |\n",
    "| RFC2 | RFC | 77.1% | 58.4% | 61.1% | 57.1% | Zscore, SMOTE |\n",
    "| RFC3 | RFC | 78.0% | 54.0% | 72.1% | 52.9% | Clamping, cat. reduction |\n",
    "| RFC4 | RFC | 77.5%% | 59.2%% | 62.5%% | 58.3% | Clamping, cat. reduction, SMOTE |\n",
    "| KER1 | Sequential (5 hidden) | 81.6% | 49.8% | 71.5% | 51.4% | Zscore, EarlyStop |\n",
    "| KER2 | Sequential (5 hidden) | 75.2% | 62.6% | 50.7% | 52.1% | Zscore, SMOTE, EarlyStop |\n",
    "| KER3 | Sequential (5 hidden) | - | - | - | - | Clamping, cat. reduction, EarlyStop |\n",
    "| KER4 | Sequential (5 hidden) | - | - | - | - | Clamping, cat. reduction, SMOTE, EarlyStop |\n",
    "| DQN1 | DQN - 16 Epochs | 71.3% | 65.9% | 48.4% | 48.5% | Zscore, SMOTE, same reward for all classes, ep. length of train length |\n",
    "| DQN2 | DQN - 25 Epochs | 71.8% | 43.2% | 39.1% | 39.5% | Zscore, reward bias for minorities, ep. length of train length |\n",
    "| DQN2 | DQN - 50 Epochs | 72.5% | 43.9% | 40.2% | 40.3% | Zscore, reward bias for minorities, ep. length of train length |\n",
    "| DQN2 | DQN - 75 Epochs | 73.5% | 44.8% | 40.7% | 40.9% | Zscore, reward bias for minorities, ep. length of train length |\n",
    "| DQN3 | DQN - 50 Epochs | 72.5% | 43.9% | 40.2% | 40.3% | Zscore, reward bias for minorities, ep. length of train length |\n",
    "| A2C1 | A2C - 25 Epochs | -% | -% | -% | -% | Zscore, same reward for all classes, ep. length of 1 |\n",
    "| PPO1 | PPO - 25 Epochs | 47.1% | 35.0% | 22.4% | 16.7% | Zscore, reward bias for minorities, ep. length of train length |\n",
    "\n",
    "\n",
    "*All metrics are macro-averaged to keep minority classes relevant on the test split (80/20) prediction\n",
    "\n",
    "*All data has been normalized [0,1] prior to training"
   ]
  },
  {
   "cell_type": "markdown",
   "metadata": {},
   "source": []
  }
 ],
 "metadata": {
  "kernelspec": {
   "display_name": "py310",
   "language": "python",
   "name": "python3"
  },
  "language_info": {
   "codemirror_mode": {
    "name": "ipython",
    "version": 3
   },
   "file_extension": ".py",
   "mimetype": "text/x-python",
   "name": "python",
   "nbconvert_exporter": "python",
   "pygments_lexer": "ipython3",
   "version": "3.10.8 (main, Nov 24 2022, 14:13:03) [GCC 11.2.0]"
  },
  "orig_nbformat": 4,
  "vscode": {
   "interpreter": {
    "hash": "20483d128d088b0226048a42eb36d776f5b823f5ef775be027c2f4e8a5a7c44d"
   }
  }
 },
 "nbformat": 4,
 "nbformat_minor": 2
}
